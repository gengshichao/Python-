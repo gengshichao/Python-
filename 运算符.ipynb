{
 "cells": [
  {
   "cell_type": "markdown",
   "metadata": {},
   "source": [
    "# 1 算术运算符\n",
    "   用来组织整型和浮点型数据的算术运算。按照参加的操作数的不同可以分为一元运算符和二元运算符。"
   ]
  },
  {
   "cell_type": "markdown",
   "metadata": {},
   "source": [
    "·一元运算符\n",
    "   Python中一元运算符有多个，但是算术运算符只有一个，即 -，-是取反运算符"
   ]
  },
  {
   "cell_type": "code",
   "execution_count": 1,
   "metadata": {},
   "outputs": [
    {
     "data": {
      "text/plain": [
       "-12"
      ]
     },
     "execution_count": 1,
     "metadata": {},
     "output_type": "execute_result"
    }
   ],
   "source": [
    "#取反\n",
    "a = 12\n",
    "-a"
   ]
  },
  {
   "cell_type": "markdown",
   "metadata": {},
   "source": [
    "·二元运算符\n",
    "   包括 +、-、*、/、%、** 和//，这些运算符主要是对数字类型数据进行操作，+和*可以用于字符串、元组和列表等类型的数    据操作。 \n",
    "   \n",
    "   运算符    \t           描述\t                                           实例\n",
    "     +\t                   加        \t                               10 + 20 = 30\n",
    "     -\t                   减\t                                      10 - 20 = -10\n",
    "     *\t                   乘\t                                      10 * 20 = 200\n",
    "     /\t                   除\t                                      10 / 20 = 0.5\n",
    "    //\t                 取整除\t                        返回除法的整数部分（商） 9 // 2 输出结果 4\n",
    "    %\t                 取余数                                \t返回除法的余数 9 % 2 = 1\n",
    "    **\t                   幂\t                                 又称次方、乘方，2 ** 3 = 8"
   ]
  },
  {
   "cell_type": "code",
   "execution_count": 2,
   "metadata": {},
   "outputs": [
    {
     "data": {
      "text/plain": [
       "3"
      ]
     },
     "execution_count": 2,
     "metadata": {},
     "output_type": "execute_result"
    }
   ],
   "source": [
    "1+2"
   ]
  },
  {
   "cell_type": "code",
   "execution_count": 3,
   "metadata": {},
   "outputs": [
    {
     "data": {
      "text/plain": [
       "6"
      ]
     },
     "execution_count": 3,
     "metadata": {},
     "output_type": "execute_result"
    }
   ],
   "source": [
    "2*3"
   ]
  },
  {
   "cell_type": "code",
   "execution_count": 4,
   "metadata": {},
   "outputs": [
    {
     "data": {
      "text/plain": [
       "1.5"
      ]
     },
     "execution_count": 4,
     "metadata": {},
     "output_type": "execute_result"
    }
   ],
   "source": [
    "3/2"
   ]
  },
  {
   "cell_type": "code",
   "execution_count": 5,
   "metadata": {},
   "outputs": [
    {
     "data": {
      "text/plain": [
       "1"
      ]
     },
     "execution_count": 5,
     "metadata": {},
     "output_type": "execute_result"
    }
   ],
   "source": [
    "3//2"
   ]
  },
  {
   "cell_type": "raw",
   "metadata": {},
   "source": [
    "·关系运算符\n",
    "  是比较两个表达式大小关系的运算，结果是布尔类型的数据，即True或False。\n",
    "  关系运算符有6种：==、!=、>、<、>=、和<=。\n",
    "  \n",
    "  运算符         描述                  实例                说明\n",
    "   ==            等于                  a=b            \n",
    "   !=           不等于                 a!=b\n",
    "   >             大于                  a>b\n",
    "   <             小于                  a<b\n",
    "   >=          大于或等于              a>=b\n",
    "   <=          小于或等于              a<=b"
   ]
  }
 ],
 "metadata": {
  "kernelspec": {
   "display_name": "Python 3",
   "language": "python",
   "name": "python3"
  },
  "language_info": {
   "codemirror_mode": {
    "name": "ipython",
    "version": 3
   },
   "file_extension": ".py",
   "mimetype": "text/x-python",
   "name": "python",
   "nbconvert_exporter": "python",
   "pygments_lexer": "ipython3",
   "version": "3.7.1"
  }
 },
 "nbformat": 4,
 "nbformat_minor": 2
}
