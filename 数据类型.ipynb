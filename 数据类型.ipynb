{
 "cells": [
  {
   "cell_type": "markdown",
   "metadata": {},
   "source": [
    "Python有6种数据类型：数字，字符串，列表，元组，集合，字典。"
   ]
  },
  {
   "cell_type": "markdown",
   "metadata": {},
   "source": [
    "# 1 数字类型\n",
    " 数字类型有4种：整数类型，浮点类型，复数类型，布尔类型。\n",
    " ·整数类型\n",
    "   （1）Python中整数类型为int，与数学中整数概念一致，没有取值范围限制。\n",
    "   （2）默认情况下整数值表示十进制数，其他进制，如二进制，八进制，十六进制表示如下：\n",
    "       二进制数：以0b或0B为前缀，0是阿拉伯数字。\n",
    "       八进制数：以0o或0O为前缀，第一个是阿拉伯数字0，第二个是英文字母o或O。\n",
    "       十六进制数：以0x或0X为前缀，0是阿拉伯数字。\n",
    "       pow(x,y)，计算x的y次方，可以嵌套。"
   ]
  },
  {
   "cell_type": "code",
   "execution_count": 2,
   "metadata": {},
   "outputs": [
    {
     "data": {
      "text/plain": [
       "256"
      ]
     },
     "execution_count": 2,
     "metadata": {},
     "output_type": "execute_result"
    }
   ],
   "source": [
    "pow(2,pow(2,3))"
   ]
  },
  {
   "cell_type": "markdown",
   "metadata": {},
   "source": [
    "·浮点类型\n",
    "  （1）带有小数点及小数的数字。\n",
    "  （2）数值范围存在限制，小数精确度也存在限制。\n",
    "  （3）可以用科学计数法表示，使用e或E作为幂的符号。e表示10的指数，e2表示10的平方"
   ]
  },
  {
   "cell_type": "code",
   "execution_count": 3,
   "metadata": {},
   "outputs": [
    {
     "data": {
      "text/plain": [
       "336.0"
      ]
     },
     "execution_count": 3,
     "metadata": {},
     "output_type": "execute_result"
    }
   ],
   "source": [
    "3.36e2"
   ]
  },
  {
   "cell_type": "markdown",
   "metadata": {},
   "source": [
    "·复数类型\n",
    "  很多计算机语言不支持复数，而Python是支持的。\n",
    "  Python中复数类型为complex,例如z=1+2j，1为实部，2为虚部。可用z.real获得实数部分，z.imag获得虚数部分"
   ]
  },
  {
   "cell_type": "code",
   "execution_count": 4,
   "metadata": {},
   "outputs": [
    {
     "name": "stdout",
     "output_type": "stream",
     "text": [
      "2.0\n",
      "3.0\n"
     ]
    }
   ],
   "source": [
    "z = 2+3j\n",
    "print(z.real)\n",
    "print(z.imag)"
   ]
  },
  {
   "cell_type": "code",
   "execution_count": 5,
   "metadata": {},
   "outputs": [
    {
     "name": "stdout",
     "output_type": "stream",
     "text": [
      "(3+5j)\n"
     ]
    }
   ],
   "source": [
    "z = (1+2j) + (2+3j)\n",
    "print(z)"
   ]
  },
  {
   "cell_type": "markdown",
   "metadata": {},
   "source": [
    "·布尔类型\n",
    "  （1）Python中布尔类型为bool，bool为int的子类，它只有两个值：True和False\n",
    "  （2）任何数据类型都可以通过bool（）函数转换为布尔值。那些被认为没有的，空的值会转换为False，反之转换为True。如        None，False，0， 0.0 ，0j（复数），\"（空字符串），[]空列表，（）空元组，{}空字典，这些数值都会转换为            False，否则为True。"
   ]
  },
  {
   "cell_type": "code",
   "execution_count": 7,
   "metadata": {},
   "outputs": [
    {
     "name": "stdout",
     "output_type": "stream",
     "text": [
      "False\n",
      "True\n",
      "False\n",
      "True\n",
      "False\n"
     ]
    }
   ],
   "source": [
    "print(bool(0))\n",
    "print(bool(2))\n",
    "print(bool(''))\n",
    "print(bool('  '))\n",
    "print(bool({}))"
   ]
  },
  {
   "cell_type": "markdown",
   "metadata": {},
   "source": [
    "·数字类型相互转换\n",
    "  （1）隐式类型转换：多个数字类型数据之间进行数学计算，进行运算的数字类型可能不同，此时将发生隐式类型转换。\n",
    "    \n",
    "             操作数一类型               操作数2类型                 转换后的类型   \n",
    "             \n",
    "                 布尔                       整数                        整数\n",
    "             \n",
    "             布尔  整数                     浮点                        浮点  \n",
    "   (2)显式类型转换：除复数外，不能进行隐式转换情况下，可以使用转换函数进行显示转换。三种数字类型都有自己的转换函       数，整数、浮点、布尔分别对应int()、float（）、bool（）函数。"
   ]
  },
  {
   "cell_type": "code",
   "execution_count": 3,
   "metadata": {},
   "outputs": [
    {
     "name": "stdout",
     "output_type": "stream",
     "text": [
      "2\n",
      "<class 'float'>\n",
      "2.0\n",
      "2.0\n",
      "2.0\n"
     ]
    }
   ],
   "source": [
    "a = 1 + True\n",
    "print(a)\n",
    "a = 1.0 + 1\n",
    "print(type(a))\n",
    "print(a)\n",
    "a= 1.0 + True\n",
    "print(a)\n",
    "a = 1.0 + 1 + False\n",
    "print(a)"
   ]
  },
  {
   "cell_type": "code",
   "execution_count": 21,
   "metadata": {},
   "outputs": [
    {
     "name": "stdout",
     "output_type": "stream",
     "text": [
      "0\n",
      "1\n",
      "4.0\n",
      "0.0\n",
      "1.0\n"
     ]
    }
   ],
   "source": [
    "print(int(False))\n",
    "print(int(True))\n",
    "print(float(4))\n",
    "print(float(False))\n",
    "print(float(True))"
   ]
  },
  {
   "cell_type": "markdown",
   "metadata": {},
   "source": [
    "# 2 字符串类型\n",
    "  ·由字符组成的一串字符序列成为“字符串”，字符串是有顺序的，从左往右，索引从0开始依次递增，字符串类型是str\n",
    "  ·表示方式\n",
    "     （1）普通字符串：采用单引号 ' 或双引号 \" 包裹起来的字符串。\n",
    "     （2）原始字符串（raw string）:在普通字符串前加r，字符串中的特殊字符不需要转译。\n",
    "     （3）长字符串：字符串中包含了换行缩进等排版字符，可以使用三重单引号 ''' 或三重双引号 \"\"\" 包裹起来，这就是长           字符串。\n",
    "   ·Python中字符采用Unicode编码，可通过print函数将Unicode编码表示的字符串输出到控制台\n",
    "   ·字符转义:字符串中包含一些特殊的字符，如换行符、制表符等，在普通字符串中需要转义，前面要加上反斜杠\"\\\"，这称      为字符转义。\n",
    "                                            转义符 \n",
    "                                            \n",
    "            字符表示                    Unicode                               说  明\n",
    "              \\t                        \\u0009                              水平制表符\n",
    "              \\n                        \\u000a                              换行\n",
    "              \\r                        \\u000d                              回车\n",
    "              \\\"                        \\u0022                              双引号\n",
    "              \\'                        \\u0027                              单引号\n",
    "              \\\\                        \\u005c                              反斜线\n",
    "   ·字符串格式化：使用字符串的format（）方法以及占位符把字符串变量和字符串拼接到一起，并进行格式化输出。"
   ]
  },
  {
   "cell_type": "code",
   "execution_count": 22,
   "metadata": {},
   "outputs": [
    {
     "name": "stdout",
     "output_type": "stream",
     "text": [
      "I Love You\n"
     ]
    }
   ],
   "source": [
    "#普通字符串\n",
    "s = 'I Love You'\n",
    "print(s)"
   ]
  },
  {
   "cell_type": "code",
   "execution_count": 23,
   "metadata": {},
   "outputs": [
    {
     "name": "stdout",
     "output_type": "stream",
     "text": [
      "Hello\tWorld\n",
      "Hello\\tWorld\n"
     ]
    }
   ],
   "source": [
    "#原始字符串输出不会转义，连同转义符一起显示出来\n",
    "s = 'Hello\\tWorld'\n",
    "print(s)\n",
    "s = r'Hello\\tWorld'\n",
    "print(s)"
   ]
  },
  {
   "cell_type": "code",
   "execution_count": 24,
   "metadata": {},
   "outputs": [
    {
     "name": "stdout",
     "output_type": "stream",
     "text": [
      "Hello\n",
      "  World\n",
      "Hello \t\n",
      "            World\n"
     ]
    }
   ],
   "source": [
    "#长字符串\n",
    "#包含特殊字符也需要转译\n",
    "s = '''Hello\n",
    "  World'''\n",
    "print(s)\n",
    "s = '''Hello \\t\n",
    "            World'''\n",
    "print(s)"
   ]
  },
  {
   "cell_type": "code",
   "execution_count": 3,
   "metadata": {},
   "outputs": [
    {
     "name": "stdout",
     "output_type": "stream",
     "text": [
      "Mary的年龄是18岁\n"
     ]
    }
   ],
   "source": [
    "#占位符用参数索引表示\n",
    "name = 'Mary'\n",
    "age = 18\n",
    "s = '{0}的年龄是{1}岁'.format(name,age)\n",
    "print(s)"
   ]
  },
  {
   "cell_type": "code",
   "execution_count": 4,
   "metadata": {},
   "outputs": [
    {
     "name": "stdout",
     "output_type": "stream",
     "text": [
      "Mary的年龄是18岁。\n"
     ]
    }
   ],
   "source": [
    "#占位符用参数的名字表示。n和a是参数的名字\n",
    "name = 'Mary'\n",
    "age = 18\n",
    "s = '{n}的年龄是{a}岁。'.format(n=name,a=age)\n",
    "print(s)"
   ]
  },
  {
   "cell_type": "raw",
   "metadata": {},
   "source": [
    "·字符串查找：在给定的字符串中查找子字符串。有find和rfind方法查找子字符串。\n",
    "     str.find:(sub[,start[,end]]):在索引start和end之间查找子字符串sub，如果找到返回最左端位置的索引，如果没有找       到返回-1。开始索引和结束索引都可以省略。\n",
    "     str.rfind(sub[,start[,end]]):和find类似，区别是如果找到返回最右端的位置的索引。"
   ]
  },
  {
   "cell_type": "code",
   "execution_count": 4,
   "metadata": {},
   "outputs": [
    {
     "name": "stdout",
     "output_type": "stream",
     "text": [
      "36\n",
      "g\n",
      "3\n",
      "13\n",
      "14\n",
      "24\n"
     ]
    }
   ],
   "source": [
    "a = \"There is a string accessing example.\"\n",
    "print(len(a))\n",
    "print(a[16])\n",
    "print(a.find('r'))\n",
    "print(a.rfind('r'))\n",
    "print(a.find('ing',5))\n",
    "print(a.rfind('ing',5))"
   ]
  },
  {
   "cell_type": "markdown",
   "metadata": {},
   "source": [
    "·字符串与数字相互转换\n",
    "  1)字符串转换为数字：使用int()和float()函数实现。\n",
    "  2):数字转换为字符串：可以使用str()函数将任何类型的数字转换为字符串。\n",
    "    str()函数很强大，什么类型都可以转换。但是不能格式化。"
   ]
  },
  {
   "cell_type": "code",
   "execution_count": 7,
   "metadata": {},
   "outputs": [
    {
     "name": "stdout",
     "output_type": "stream",
     "text": [
      "4\n",
      "9.3\n"
     ]
    }
   ],
   "source": [
    "#字符串转换为数字\n",
    "print(int('4'))\n",
    "print(float('9.3'))"
   ]
  },
  {
   "cell_type": "code",
   "execution_count": 15,
   "metadata": {},
   "outputs": [
    {
     "data": {
      "text/plain": [
       "'9.3'"
      ]
     },
     "execution_count": 15,
     "metadata": {},
     "output_type": "execute_result"
    }
   ],
   "source": [
    "#数字转换为字符串\n",
    "str(9.3)"
   ]
  },
  {
   "cell_type": "code",
   "execution_count": 16,
   "metadata": {},
   "outputs": [
    {
     "data": {
      "text/plain": [
       "'True'"
      ]
     },
     "execution_count": 16,
     "metadata": {},
     "output_type": "execute_result"
    }
   ],
   "source": [
    "#其他类型转换为字符串\n",
    "str(True)"
   ]
  }
 ],
 "metadata": {
  "kernelspec": {
   "display_name": "Python 3",
   "language": "python",
   "name": "python3"
  },
  "language_info": {
   "codemirror_mode": {
    "name": "ipython",
    "version": 3
   },
   "file_extension": ".py",
   "mimetype": "text/x-python",
   "name": "python",
   "nbconvert_exporter": "python",
   "pygments_lexer": "ipython3",
   "version": "3.7.1"
  }
 },
 "nbformat": 4,
 "nbformat_minor": 2
}
