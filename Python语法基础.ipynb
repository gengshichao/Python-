{
 "cells": [
  {
   "cell_type": "markdown",
   "metadata": {},
   "source": [
    "# 标识符和关键字\n",
    " 标识符：标识符就是变量、常量、函数、属性、类、模块和包等由程序员制定的名字。\n",
    "    标识符的命名规则如下：\n",
    "   （1）区分大小写。\n",
    "   （2）首字符可以是字母或下划线，但不能是数字。\n",
    "   （3）除首字符外其他字符，可以是数字、字母、下划线。\n",
    "   （4）关键字不能作为标识符。\n",
    "   （5）不能使用Python内置函数作为自己的标识符。"
   ]
  },
  {
   "cell_type": "markdown",
   "metadata": {},
   "source": [
    "关键字：关键字是类似标识符的字符序列，有语言本身定义好。\n",
    "  Python语言中有33个关键字，只有三个，即False、None和True首字母大写，其他的全部小写\n",
    "                        Python关键字\n",
    "False               def                 if                  raise\n",
    "None                del                 import              return\n",
    "True                elif                in                  try\n",
    "and                 else                is                  while\n",
    "as                  except              lambda              with\n",
    "assert              finally             nonlocal            yield\n",
    "break               for                 not                 \n",
    "class               from                or                  \n",
    "continue            global              pass "
   ]
  },
  {
   "cell_type": "markdown",
   "metadata": {},
   "source": [
    "# 变量\n",
    "    ·声明变量时不需要指定数据类型，只要给一个标识符赋值就声明了变量。\n",
    "    ·给它赋什么值，它就是什么类型的变量\n",
    "    ·Python是动态类型语言，它不会检查数据类型，确定了数据类型，还可以接收其他数据类型。\n",
    "    ·见名知意\n",
    "    ·变量名一个单词放不下，用下划线连接"
   ]
  },
  {
   "cell_type": "code",
   "execution_count": null,
   "metadata": {},
   "outputs": [],
   "source": [
    "#字符串类型\n",
    "_hello = \"HelloWorld\"\n",
    "#浮点类型\n",
    "score_for_student = 0.0\n",
    "#整数类型\n",
    "y = 20\n",
    "#布尔类型\n",
    "y = True\n",
    "#见名知意\n",
    "age = 18"
   ]
  },
  {
   "cell_type": "markdown",
   "metadata": {},
   "source": [
    "# 常量\n",
    "    ·常量的定义一旦初始化，就不能再修改，而Python不能从语法层面上定义常量，Python没有提供一个关键字使得变量不能       被修改。所以在Python中只能将变量当成常量使用，只是不要修改它。"
   ]
  },
  {
   "cell_type": "markdown",
   "metadata": {},
   "source": [
    "sdfghjkl"
   ]
  }
 ],
 "metadata": {
  "kernelspec": {
   "display_name": "Python 3",
   "language": "python",
   "name": "python3"
  },
  "language_info": {
   "codemirror_mode": {
    "name": "ipython",
    "version": 3
   },
   "file_extension": ".py",
   "mimetype": "text/x-python",
   "name": "python",
   "nbconvert_exporter": "python",
   "pygments_lexer": "ipython3",
   "version": "3.7.1"
  }
 },
 "nbformat": 4,
 "nbformat_minor": 2
}
